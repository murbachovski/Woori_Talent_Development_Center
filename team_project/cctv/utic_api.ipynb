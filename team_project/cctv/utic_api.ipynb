{
  "cells": [
    {
      "cell_type": "code",
      "execution_count": 1,
      "metadata": {},
      "outputs": [],
      "source": [
        "from ultralytics import YOLO, solutions\n",
        "import cv2\n",
        "import pandas as pd"
      ]
    },
    {
      "cell_type": "code",
      "execution_count": 2,
      "metadata": {},
      "outputs": [],
      "source": [
        "key = \"uACkvHly3RsdoJffIYISVNqi5kjBKXzRb7xqyLng7XE\""
      ]
    },
    {
      "cell_type": "code",
      "execution_count": 3,
      "metadata": {},
      "outputs": [],
      "source": [
        "# * 소통정보 데이터 URL - http://www.utic.go.kr/etc/telMap.do?key=인증키  \n",
        "# * 돌발정보 데이터 URL - http://www.utic.go.kr/guide/imsOpenData.do?key=인증키\n",
        "# * 교통안전 데이터 URL - http://www.utic.go.kr/guide/tsdmsOpenData.do?key=인증키\n",
        "# * CCTV 데이터 URL - http://www.utic.go.kr/guide/cctvOpenData.do?key=인증키\n",
        "# * 도로위험상황예보 URL - http://www.utic.go.kr/guide/getRoadAccJson.do?key=인증키\n",
        "# * 보호구역 데이터 URL : http://www.utic.go.kr/guide/getSafeOpenJson.do?key=인증키&sidoCd=시도코드\n",
        "# * 신호개방데이터 URL : http://tsihub.utic.go.kr/tsi/api/PlanCrossRoadInfoService/getPlanCRRSInfo?serviceKey=인증키&type=json\n",
        "# * TCS공사정보 데이터 URL : http://www.utic.go.kr/guide/tcsOpenData.do?key=인증키"
      ]
    },
    {
      "cell_type": "code",
      "execution_count": 4,
      "metadata": {},
      "outputs": [],
      "source": [
        "# cctv_data = \"https://www.utic.go.kr/guide/cctvOpenData.do?key=uACkvHly3RsdoJffIYISVNqi5kjBKXzRb7xqyLng7XE\"\n",
        "cctv_data = f\"https://www.utic.go.kr/guide/cctvOpenData.do?key={key}\""
      ]
    },
    {
      "cell_type": "code",
      "execution_count": 5,
      "metadata": {},
      "outputs": [
        {
          "name": "stdout",
          "output_type": "stream",
          "text": [
            "https://www.utic.go.kr/guide/cctvOpenData.do?key=uACkvHly3RsdoJffIYISVNqi5kjBKXzRb7xqyLng7XE\n"
          ]
        }
      ],
      "source": [
        "print(cctv_data)"
      ]
    },
    {
      "cell_type": "code",
      "execution_count": 6,
      "metadata": {},
      "outputs": [
        {
          "name": "stderr",
          "output_type": "stream",
          "text": [
            "c:\\ProgramData\\anaconda3\\envs\\team\\lib\\site-packages\\openpyxl\\styles\\stylesheet.py:237: UserWarning: Workbook contains no default style, apply openpyxl's default\n",
            "  warn(\"Workbook contains no default style, apply openpyxl's default\")\n"
          ]
        }
      ],
      "source": [
        "# xlsx to csv\n",
        "# # pip install xlrd\n",
        "# # pip install openpyxl\n",
        "\n",
        "xlsx = pd.read_excel(\"C:/Users/Administrator/Desktop/ai/team_project/cctv/OpenDataCCTV.xlsx\")\n",
        "xlsx.to_csv(\"C:/Users/Administrator/Desktop/ai/team_project/cctv/OpenDataCCTV.csv\")\n",
        "\n",
        "all_data_csv = \"C:/Users/Administrator/Desktop/ai/team_project/cctv/OpenDataCCTV.csv\""
      ]
    }
  ],
  "metadata": {
    "colab": {
      "provenance": []
    },
    "kernelspec": {
      "display_name": "team",
      "language": "python",
      "name": "python3"
    },
    "language_info": {
      "codemirror_mode": {
        "name": "ipython",
        "version": 3
      },
      "file_extension": ".py",
      "mimetype": "text/x-python",
      "name": "python",
      "nbconvert_exporter": "python",
      "pygments_lexer": "ipython3",
      "version": "3.9.21"
    }
  },
  "nbformat": 4,
  "nbformat_minor": 0
}
