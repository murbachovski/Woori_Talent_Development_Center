{
  "cells": [
    {
      "cell_type": "code",
      "execution_count": 1,
      "metadata": {},
      "outputs": [],
      "source": [
        "from ultralytics import YOLO, solutions\n",
        "import cv2\n",
        "import pandas as pd"
      ]
    },
    {
      "cell_type": "code",
      "execution_count": 2,
      "metadata": {},
      "outputs": [],
      "source": [
        "key = \"uACkvHly3RsdoJffIYISVNqi5kjBKXzRb7xqyLng7XE\""
      ]
    },
    {
      "cell_type": "code",
      "execution_count": 3,
      "metadata": {},
      "outputs": [],
      "source": [
        "# * 소통정보 데이터 URL - http://www.utic.go.kr/etc/telMap.do?key=인증키  \n",
        "# * 돌발정보 데이터 URL - http://www.utic.go.kr/guide/imsOpenData.do?key=인증키\n",
        "# * 교통안전 데이터 URL - http://www.utic.go.kr/guide/tsdmsOpenData.do?key=인증키\n",
        "# * CCTV 데이터 URL - http://www.utic.go.kr/guide/cctvOpenData.do?key=인증키\n",
        "# * 도로위험상황예보 URL - http://www.utic.go.kr/guide/getRoadAccJson.do?key=인증키\n",
        "# * 보호구역 데이터 URL : http://www.utic.go.kr/guide/getSafeOpenJson.do?key=인증키&sidoCd=시도코드\n",
        "# * 신호개방데이터 URL : http://tsihub.utic.go.kr/tsi/api/PlanCrossRoadInfoService/getPlanCRRSInfo?serviceKey=인증키&type=json\n",
        "# * TCS공사정보 데이터 URL : http://www.utic.go.kr/guide/tcsOpenData.do?key=인증키"
      ]
    },
    {
      "cell_type": "code",
      "execution_count": 4,
      "metadata": {},
      "outputs": [],
      "source": [
        "# cctv_data = \"https://www.utic.go.kr/guide/cctvOpenData.do?key=uACkvHly3RsdoJffIYISVNqi5kjBKXzRb7xqyLng7XE\"\n",
        "cctv_data = f\"https://www.utic.go.kr/guide/cctvOpenData.do?key={key}\""
      ]
    },
    {
      "cell_type": "code",
      "execution_count": 5,
      "metadata": {},
      "outputs": [
        {
          "name": "stdout",
          "output_type": "stream",
          "text": [
            "https://www.utic.go.kr/guide/cctvOpenData.do?key=uACkvHly3RsdoJffIYISVNqi5kjBKXzRb7xqyLng7XE\n"
          ]
        }
      ],
      "source": [
        "print(cctv_data)"
      ]
    },
    {
      "cell_type": "code",
      "execution_count": 6,
      "metadata": {},
      "outputs": [
        {
          "name": "stderr",
          "output_type": "stream",
          "text": [
            "c:\\ProgramData\\anaconda3\\envs\\team\\lib\\site-packages\\openpyxl\\styles\\stylesheet.py:237: UserWarning: Workbook contains no default style, apply openpyxl's default\n",
            "  warn(\"Workbook contains no default style, apply openpyxl's default\")\n"
          ]
        }
      ],
      "source": [
        "# xlsx to csv\n",
        "# # pip install xlrd\n",
        "# # pip install openpyxl\n",
        "\n",
        "xlsx = pd.read_excel(\"C:/Users/Administrator/Desktop/ai/team_project/cctv/OpenDataCCTV.xlsx\")\n",
        "xlsx.to_csv(\"C:/Users/Administrator/Desktop/ai/team_project/cctv/OpenDataCCTV.csv\")\n",
        "\n",
        "all_data_csv = \"C:/Users/Administrator/Desktop/ai/team_project/cctv/OpenDataCCTV.csv\""
      ]
    },
    {
      "cell_type": "code",
      "execution_count": null,
      "metadata": {},
      "outputs": [],
      "source": [
        "import cv2\n",
        "\n",
        "# CCTV 스트림 URL\n",
        "stream_url = \"https://www.utic.go.kr/jsp/map/openDataCctvStream.jsp?key=uACkvHly3RsdoJffIYISVNqi5kjBKXzRb7xqyLng7XE&cctvid=L933113&cctvName=%25EA%25B0%2595%25EC%259B%2590%2520%25EA%25B0%2595%25EB%25A6%2589%2520%25EC%259A%25A9%25EA%25B0%2595%25EB%258F%2599&kind=KB&cctvip=9952&cctvch=undefined&id=undefined&cctvpasswd=undefined&cctvport=undefined\"\n",
        "\n",
        "# 스트림을 가져오기\n",
        "cap = cv2.VideoCapture(stream_url)\n",
        "\n",
        "# 첫 번째 프레임 저장을 위한 변수\n",
        "first_frame_saved = False\n",
        "\n",
        "while True:\n",
        "    ret, frame = cap.read()  # 스트림에서 프레임을 읽어오기\n",
        "    if not ret:\n",
        "        break\n",
        "\n",
        "    # 첫 번째 프레임 저장\n",
        "    if not first_frame_saved:\n",
        "        cv2.imwrite('./first_frame.jpg', frame)  # 첫 번째 프레임을 'first_frame.jpg'로 저장\n",
        "        first_frame_saved = True\n",
        "        print(\"첫 번째 프레임을 저장했습니다.\")\n",
        "\n",
        "    # 프레임을 실시간으로 처리하는 부분 (예: 객체 탐지)\n",
        "    cv2.imshow('CCTV Stream', frame)  # 프레임을 화면에 표시\n",
        "\n",
        "    if cv2.waitKey(1) & 0xFF == ord('q'):  # 'q' 키를 눌러 종료\n",
        "        break\n",
        "\n",
        "cap.release()\n",
        "cv2.destroyAllWindows()"
      ]
    },
    {
      "cell_type": "code",
      "execution_count": null,
      "metadata": {},
      "outputs": [],
      "source": []
    },
    {
      "cell_type": "code",
      "execution_count": null,
      "metadata": {},
      "outputs": [],
      "source": []
    }
  ],
  "metadata": {
    "colab": {
      "provenance": []
    },
    "kernelspec": {
      "display_name": "team",
      "language": "python",
      "name": "python3"
    },
    "language_info": {
      "codemirror_mode": {
        "name": "ipython",
        "version": 3
      },
      "file_extension": ".py",
      "mimetype": "text/x-python",
      "name": "python",
      "nbconvert_exporter": "python",
      "pygments_lexer": "ipython3",
      "version": "3.9.21"
    }
  },
  "nbformat": 4,
  "nbformat_minor": 0
}
